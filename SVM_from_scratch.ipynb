{
  "nbformat": 4,
  "nbformat_minor": 0,
  "metadata": {
    "colab": {
      "provenance": [],
      "authorship_tag": "ABX9TyPYWjaFzDjIud0PoKGNHGa2"
    },
    "kernelspec": {
      "name": "python3",
      "display_name": "Python 3"
    },
    "language_info": {
      "name": "python"
    }
  },
  "cells": [
    {
      "cell_type": "code",
      "execution_count": 1,
      "metadata": {
        "id": "O5ysOi8qdt_G"
      },
      "outputs": [],
      "source": [
        "import numpy as np"
      ]
    },
    {
      "cell_type": "markdown",
      "source": [
        "Support_Vector_Machine."
      ],
      "metadata": {
        "id": "HM9WRicWleUe"
      }
    },
    {
      "cell_type": "code",
      "source": [
        "class SVM_classifier():\n",
        "  def __init__(self,learning_rate,no_of_iterations,lambda_parameter):\n",
        "    self.learning_rate=learning_rate\n",
        "    self.no_of_iterations=no_of_iterations\n",
        "    self.lambda_parameter=lambda_parameter\n",
        "\n",
        "  def fit(self,X,Y):\n",
        "    self.m,self.n = X.shape #m -> no of rows , n -> no of cols\n",
        "    self.w = np.zeros(self.n) #initiating the weight value\n",
        "    self.b = 0 #initiating the bias value\n",
        "    self.X = X #feature col\n",
        "    self.Y = Y #outcome col\n",
        "\n",
        "    for i in range(self.no_of_iterations):\n",
        "      self.update_weights()\n",
        "\n",
        "  def update_weights(self,):\n",
        "    y_label = np.where(self.Y <= 0,-1,1) #label encoding\n",
        "\n",
        "    #gradient\n",
        "    for index,x_i in enumerate(self.X):\n",
        "      condition = y_label[index] * (np.dot(x_i,self.w) - self.b) >= 1\n",
        "      if (condition == True):\n",
        "        dw = 2 * self.lambda_parameter * self.w\n",
        "        db = 0\n",
        "      else:\n",
        "        dw = 2 * self.lambda_parameter * self.w - np.dot(x_i,y_label[index])\n",
        "        db = y_label[index]\n",
        "\n",
        "      self.w = self.w - self.learning_rate * dw\n",
        "      self.b = self.b - self.learning_rate * db\n",
        "\n",
        "  def predict(self,X):\n",
        "    output = np.dot(self.w,self.X) - self.b\n",
        "    predicted_labels = np.sign(output) #generalizing; just want sign\n",
        "    y_hat = np.where(predicted_labels <= -1,0,1) #reverting the encoding\n",
        "    return y_hat"
      ],
      "metadata": {
        "id": "DfHyCNynd6sP"
      },
      "execution_count": 2,
      "outputs": []
    }
  ]
}